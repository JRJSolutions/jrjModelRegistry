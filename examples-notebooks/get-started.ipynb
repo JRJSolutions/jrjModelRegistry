{
 "cells": [
  {
   "cell_type": "code",
   "execution_count": 1,
   "id": "9e747353-aafd-4e2f-bb35-240326c3513c",
   "metadata": {},
   "outputs": [],
   "source": [
    "import pandas as pd\n",
    "\n",
    "df = pd.DataFrame({\n",
    "    \"name\": [\"Alice\", \"Bob\", \"Charlie\"],\n",
    "    \"age\": [25, 30, 35]\n",
    "})"
   ]
  },
  {
   "cell_type": "code",
   "execution_count": 2,
   "id": "be53afdb-48bd-413e-a09d-734e55eac3d1",
   "metadata": {},
   "outputs": [],
   "source": [
    "class MyDataHolder:\n",
    "    pass\n",
    "\n",
    "inst = MyDataHolder()\n",
    "inst.df = df  # Add the DataFrame as a property"
   ]
  },
  {
   "cell_type": "code",
   "execution_count": 3,
   "id": "578bfdbf-c27e-4593-9841-5bfd42b4134a",
   "metadata": {},
   "outputs": [],
   "source": [
    "from dotenv import load_dotenv\n",
    "from pathlib import Path"
   ]
  },
  {
   "cell_type": "code",
   "execution_count": 4,
   "id": "bcae1492-2ec4-4d4c-8d1c-d279e629669b",
   "metadata": {},
   "outputs": [
    {
     "name": "stdout",
     "output_type": "stream",
     "text": [
      ".env-live\n"
     ]
    }
   ],
   "source": [
    "env_path = Path(\"../.env-live\")\n",
    "\n",
    "\n",
    "if env_path.exists():\n",
    "    print('.env-live')\n",
    "    load_dotenv(dotenv_path=env_path)"
   ]
  },
  {
   "cell_type": "code",
   "execution_count": 5,
   "id": "2d5c81aa-b820-4018-b5fa-4b54ca74a026",
   "metadata": {},
   "outputs": [
    {
     "name": "stdout",
     "output_type": "stream",
     "text": [
      "Pinged your deployment. You successfully connected to MongoDB!\n"
     ]
    }
   ],
   "source": [
    "from jrjModelRegistry.jrjModelRegistry import registerAJrjModel"
   ]
  },
  {
   "cell_type": "code",
   "execution_count": 6,
   "id": "fccc13ba-44af-43f2-96e7-97991878be5e",
   "metadata": {},
   "outputs": [],
   "source": [
    "metadata = {\n",
    "    \"modelName\": \"simple_class_df\",\n",
    "    \"version\": \"v1.0\",\n",
    "    \"note\": \"Minimal class holding a DataFrame\"\n",
    "}"
   ]
  },
  {
   "cell_type": "code",
   "execution_count": 7,
   "id": "2277ff22-e0c9-4c44-b4c0-8f0417d26d44",
   "metadata": {},
   "outputs": [
    {
     "name": "stdout",
     "output_type": "stream",
     "text": [
      "✅ Uploaded encrypted ZIP to s3://jasonjafariml/simple_class_df__v1.0.pkl.zip\n"
     ]
    },
    {
     "data": {
      "text/plain": [
       "{'_id': '683e823757df2893304f152a',\n",
       " 'modelName': 'simple_class_df',\n",
       " 'version': 'v1.0',\n",
       " 'note': 'Minimal class holding a DataFrame',\n",
       " 'modelType': 'model',\n",
       " 'keepLastOnly': False,\n",
       " 'modelSizeBytes': 1168,\n",
       " 'zippedModelSizeBytes': 933,\n",
       " 's3Url': 'jasonjafariml/simple_class_df__v1.0.pkl.zip',\n",
       " 'createdAt': '2025-06-03T05:03:51.701Z',\n",
       " 'updatedAt': '2025-06-03T05:03:51.701Z'}"
      ]
     },
     "execution_count": 7,
     "metadata": {},
     "output_type": "execute_result"
    }
   ],
   "source": [
    "registerAJrjModel(\n",
    "    inst,\n",
    "    metadata\n",
    ")"
   ]
  },
  {
   "cell_type": "code",
   "execution_count": null,
   "id": "7ed36f11-03d4-458e-9c81-ecd992fcd641",
   "metadata": {},
   "outputs": [],
   "source": []
  }
 ],
 "metadata": {
  "kernelspec": {
   "display_name": "Python 3 (ipykernel)",
   "language": "python",
   "name": "python3"
  },
  "language_info": {
   "codemirror_mode": {
    "name": "ipython",
    "version": 3
   },
   "file_extension": ".py",
   "mimetype": "text/x-python",
   "name": "python",
   "nbconvert_exporter": "python",
   "pygments_lexer": "ipython3",
   "version": "3.13.0"
  }
 },
 "nbformat": 4,
 "nbformat_minor": 5
}
