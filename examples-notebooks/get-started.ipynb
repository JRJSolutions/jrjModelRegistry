{
 "cells": [
  {
   "cell_type": "code",
   "execution_count": 1,
   "id": "9e747353-aafd-4e2f-bb35-240326c3513c",
   "metadata": {},
   "outputs": [],
   "source": [
    "import pandas as pd\n",
    "\n",
    "df = pd.DataFrame({\n",
    "    \"name\": [\"Alice\", \"Bob\", \"Charlie\"],\n",
    "    \"age\": [25, 30, 35]\n",
    "})"
   ]
  },
  {
   "cell_type": "code",
   "execution_count": 2,
   "id": "be53afdb-48bd-413e-a09d-734e55eac3d1",
   "metadata": {},
   "outputs": [],
   "source": [
    "class MyDataHolder:\n",
    "    pass\n",
    "\n",
    "inst = MyDataHolder()\n",
    "inst.df = df  # Add the DataFrame as a property"
   ]
  },
  {
   "cell_type": "code",
   "execution_count": 3,
   "id": "578bfdbf-c27e-4593-9841-5bfd42b4134a",
   "metadata": {},
   "outputs": [],
   "source": [
    "from dotenv import load_dotenv\n",
    "from pathlib import Path"
   ]
  },
  {
   "cell_type": "code",
   "execution_count": 4,
   "id": "bcae1492-2ec4-4d4c-8d1c-d279e629669b",
   "metadata": {},
   "outputs": [
    {
     "name": "stdout",
     "output_type": "stream",
     "text": [
      ".env-live\n"
     ]
    }
   ],
   "source": [
    "env_path = Path(\"../.env-live\")\n",
    "\n",
    "\n",
    "if env_path.exists():\n",
    "    print('.env-live')\n",
    "    load_dotenv(dotenv_path=env_path)"
   ]
  },
  {
   "cell_type": "code",
   "execution_count": 5,
   "id": "2d5c81aa-b820-4018-b5fa-4b54ca74a026",
   "metadata": {},
   "outputs": [
    {
     "name": "stdout",
     "output_type": "stream",
     "text": [
      "Pinged your deployment. You successfully connected to MongoDB!\n"
     ]
    }
   ],
   "source": [
    "from jrjModelRegistry.jrjModelRegistry import registerAJrjModel"
   ]
  },
  {
   "cell_type": "code",
   "execution_count": 6,
   "id": "fccc13ba-44af-43f2-96e7-97991878be5e",
   "metadata": {},
   "outputs": [],
   "source": [
    "metadata = {\n",
    "    \"modelName\": \"simple_class_df\",\n",
    "    \"version\": \"v1.0\",\n",
    "    \"note\": \"Minimal class holding a DataFrame\"\n",
    "}"
   ]
  },
  {
   "cell_type": "code",
   "execution_count": 7,
   "id": "2277ff22-e0c9-4c44-b4c0-8f0417d26d44",
   "metadata": {},
   "outputs": [
    {
     "name": "stdout",
     "output_type": "stream",
     "text": [
      "✅ Uploaded encrypted ZIP to s3://jasonjafariml/simple_class_df__v1.0.pkl.zip\n"
     ]
    },
    {
     "data": {
      "text/plain": [
       "{'_id': '683e823757df2893304f152a',\n",
       " 'modelName': 'simple_class_df',\n",
       " 'version': 'v1.0',\n",
       " 'note': 'Minimal class holding a DataFrame',\n",
       " 'modelType': 'model',\n",
       " 'keepLastOnly': False,\n",
       " 'modelSizeBytes': 1168,\n",
       " 'zippedModelSizeBytes': 933,\n",
       " 's3Url': 'jasonjafariml/simple_class_df__v1.0.pkl.zip',\n",
       " 'createdAt': '2025-06-03T05:03:51.701Z',\n",
       " 'updatedAt': '2025-06-03T05:03:51.701Z'}"
      ]
     },
     "execution_count": 7,
     "metadata": {},
     "output_type": "execute_result"
    }
   ],
   "source": [
    "registerAJrjModel(\n",
    "    inst,\n",
    "    metadata\n",
    ")"
   ]
  },
  {
   "cell_type": "code",
   "execution_count": 8,
   "id": "7ed36f11-03d4-458e-9c81-ecd992fcd641",
   "metadata": {},
   "outputs": [],
   "source": [
    " from jrjModelRegistry.mongo import find_model_by_idAndLoadModel, search_models_common \n"
   ]
  },
  {
   "cell_type": "code",
   "execution_count": 9,
   "id": "4c768371-0b38-482b-8d13-feafaf93bc5d",
   "metadata": {},
   "outputs": [],
   "source": [
    "search_model_result = search_models_common({\n",
    "    \"search\": {\n",
    "        \"orderBy\": [\n",
    "            { \"modelName\": \"desc\" },\n",
    "            { \"version\": \"desc\" }\n",
    "        ],\n",
    "        \"where\": {\n",
    "            \"modelName\": \"simple_class_df\"\n",
    "        },\n",
    "        \"pagination\": {\n",
    "            \"page\": 1,\n",
    "            \"size\": 1000\n",
    "        }\n",
    "    }\n",
    "})"
   ]
  },
  {
   "cell_type": "code",
   "execution_count": 10,
   "id": "e6fb0334-6340-493a-be51-38c3d49d1d14",
   "metadata": {},
   "outputs": [
    {
     "data": {
      "text/plain": [
       "{'data': [{'_id': ObjectId('683e823757df2893304f152a'),\n",
       "   'modelName': 'simple_class_df',\n",
       "   'version': 'v1.0',\n",
       "   'note': 'Minimal class holding a DataFrame',\n",
       "   'modelType': 'model',\n",
       "   'keepLastOnly': False,\n",
       "   'modelSizeBytes': 1168,\n",
       "   'zippedModelSizeBytes': 933,\n",
       "   's3Url': 'jasonjafariml/simple_class_df__v1.0.pkl.zip',\n",
       "   'createdAt': '2025-06-03T05:03:51.701Z',\n",
       "   'updatedAt': '2025-06-03T05:03:51.701Z'}],\n",
       " 'count': 1}"
      ]
     },
     "execution_count": 10,
     "metadata": {},
     "output_type": "execute_result"
    }
   ],
   "source": [
    "search_model_result"
   ]
  },
  {
   "cell_type": "code",
   "execution_count": 11,
   "id": "01f1e07a-7771-4f46-82a9-b8881d7ddf1d",
   "metadata": {},
   "outputs": [],
   "source": [
    "model_doc = search_model_result[\"data\"][0]\n",
    "model_id = model_doc[\"_id\"]\n"
   ]
  },
  {
   "cell_type": "code",
   "execution_count": 12,
   "id": "5aabfb08-eca4-4149-b516-65bc1c4e0e5d",
   "metadata": {},
   "outputs": [],
   "source": [
    "\n",
    "from jrjModelRegistry.mongo import find_model_by_idAndLoadModel\n",
    "\n",
    "loaded_model = find_model_by_idAndLoadModel(model_id)"
   ]
  },
  {
   "cell_type": "code",
   "execution_count": 15,
   "id": "0dd49765-3607-4c49-a81e-bf80474c921e",
   "metadata": {},
   "outputs": [
    {
     "data": {
      "text/plain": [
       "{'_id': '683e823757df2893304f152a',\n",
       " 'modelName': 'simple_class_df',\n",
       " 'version': 'v1.0',\n",
       " 'note': 'Minimal class holding a DataFrame',\n",
       " 'modelType': 'model',\n",
       " 'keepLastOnly': False,\n",
       " 'modelSizeBytes': 1168,\n",
       " 'zippedModelSizeBytes': 933,\n",
       " 's3Url': 'jasonjafariml/simple_class_df__v1.0.pkl.zip',\n",
       " 'createdAt': '2025-06-03T05:03:51.701Z',\n",
       " 'updatedAt': '2025-06-03T05:03:51.701Z'}"
      ]
     },
     "execution_count": 15,
     "metadata": {},
     "output_type": "execute_result"
    }
   ],
   "source": [
    "loaded_model"
   ]
  },
  {
   "cell_type": "code",
   "execution_count": 16,
   "id": "d498e0dd-552a-4e94-9895-24b96cd44f67",
   "metadata": {},
   "outputs": [
    {
     "name": "stderr",
     "output_type": "stream",
     "text": [
      "2025-06-03 01:18:54,353 - INFO - Loading model simple_class_df version v1.0\n"
     ]
    }
   ],
   "source": [
    "import gc\n",
    "from jrjModelRegistry.mongo import find_model_by_idAndLoadModel\n",
    "from jrjModelRegistry.jrjModelRegistry import loadAJrjModel\n",
    "\n",
    "# Step 1: Load the raw object from MongoDB/S3\n",
    "modelObj = find_model_by_idAndLoadModel(model_id)\n",
    "\n",
    "# Step 2: Clean up memory (optional but helpful in large-scale usage)\n",
    "gc.collect()\n",
    "\n",
    "# Step 3: Deserialize the model object\n",
    "model = loadAJrjModel(modelObj)\n",
    "\n"
   ]
  },
  {
   "cell_type": "code",
   "execution_count": 17,
   "id": "5140e59c-3aae-43b7-aba3-84cd7ca0099b",
   "metadata": {},
   "outputs": [
    {
     "data": {
      "text/plain": [
       "<__main__.MyDataHolder at 0x120a6d6a0>"
      ]
     },
     "execution_count": 17,
     "metadata": {},
     "output_type": "execute_result"
    }
   ],
   "source": [
    "model"
   ]
  },
  {
   "cell_type": "code",
   "execution_count": 18,
   "id": "d87840da-26cf-44cc-92c3-87bfc57c6734",
   "metadata": {},
   "outputs": [
    {
     "data": {
      "text/html": [
       "<div>\n",
       "<style scoped>\n",
       "    .dataframe tbody tr th:only-of-type {\n",
       "        vertical-align: middle;\n",
       "    }\n",
       "\n",
       "    .dataframe tbody tr th {\n",
       "        vertical-align: top;\n",
       "    }\n",
       "\n",
       "    .dataframe thead th {\n",
       "        text-align: right;\n",
       "    }\n",
       "</style>\n",
       "<table border=\"1\" class=\"dataframe\">\n",
       "  <thead>\n",
       "    <tr style=\"text-align: right;\">\n",
       "      <th></th>\n",
       "      <th>name</th>\n",
       "      <th>age</th>\n",
       "    </tr>\n",
       "  </thead>\n",
       "  <tbody>\n",
       "    <tr>\n",
       "      <th>0</th>\n",
       "      <td>Alice</td>\n",
       "      <td>25</td>\n",
       "    </tr>\n",
       "    <tr>\n",
       "      <th>1</th>\n",
       "      <td>Bob</td>\n",
       "      <td>30</td>\n",
       "    </tr>\n",
       "    <tr>\n",
       "      <th>2</th>\n",
       "      <td>Charlie</td>\n",
       "      <td>35</td>\n",
       "    </tr>\n",
       "  </tbody>\n",
       "</table>\n",
       "</div>"
      ],
      "text/plain": [
       "      name  age\n",
       "0    Alice   25\n",
       "1      Bob   30\n",
       "2  Charlie   35"
      ]
     },
     "execution_count": 18,
     "metadata": {},
     "output_type": "execute_result"
    }
   ],
   "source": [
    "model.df"
   ]
  },
  {
   "cell_type": "code",
   "execution_count": null,
   "id": "1531f374-8f0a-4cd8-8dab-357bda906c3a",
   "metadata": {},
   "outputs": [],
   "source": []
  }
 ],
 "metadata": {
  "kernelspec": {
   "display_name": "Python 3 (ipykernel)",
   "language": "python",
   "name": "python3"
  },
  "language_info": {
   "codemirror_mode": {
    "name": "ipython",
    "version": 3
   },
   "file_extension": ".py",
   "mimetype": "text/x-python",
   "name": "python",
   "nbconvert_exporter": "python",
   "pygments_lexer": "ipython3",
   "version": "3.13.0"
  }
 },
 "nbformat": 4,
 "nbformat_minor": 5
}
